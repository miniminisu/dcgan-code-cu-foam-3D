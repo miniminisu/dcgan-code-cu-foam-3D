{
 "cells": [
  {
   "cell_type": "code",
   "execution_count": 9,
   "metadata": {},
   "outputs": [],
   "source": [
    "import numpy as np\n",
    "import h5py\n",
    "import tifffile\n",
    "from scipy.ndimage.filters import median_filter\n",
    "from skimage.filters import threshold_otsu\n",
    "from collections import Counter\n",
    "import os"
   ]
  },
  {
   "cell_type": "markdown",
   "metadata": {},
   "source": [
    "## Processing of a single image"
   ]
  },
  {
   "cell_type": "markdown",
   "metadata": {},
   "source": [
    "## Loading the HDF5 file and converting to tiff"
   ]
  },
  {
   "cell_type": "code",
   "execution_count": 10,
   "metadata": {},
   "outputs": [
    {
     "name": "stdout",
     "output_type": "stream",
     "text": [
      "['fake_TI_1001.hdf5', 'fake_TI_10736.hdf5', 'fake_TI_3036.hdf5', 'fake_TI_5071.hdf5', 'fake_TI_7216.hdf5']\n"
     ]
    }
   ],
   "source": [
    "root_hdf5 = '../../pytorch/fake_images_TI/hdf5'\n",
    "root_tiff = '../../pytorch/fake_images_TI/tiff'\n",
    "root_postprocess_tiff = '../../pytorch/fake_images_TI/postprocess_tiff'\n",
    "files_name = os.listdir(root_hdf5)\n",
    "print(files_name)\n"
   ]
  },
  {
   "cell_type": "code",
   "execution_count": 11,
   "metadata": {
    "pycharm": {
     "name": "#%%\n"
    }
   },
   "outputs": [],
   "source": [
    "for file_name in files_name:\n",
    "    file_path = os.path.join(root_hdf5, file_name)\n",
    "    f = h5py.File(file_path,'r')\n",
    "    my_array = f['data'][()]\n",
    "    img = my_array[0, 0, :, :, :].astype(np.float32)\n",
    "    file_name = file_name.split('.')[0]+\".tiff\"\n",
    "    # print(name)\n",
    "    file_path = os.path.join(root_tiff, file_name)\n",
    "    tifffile.imsave(file_path, img)\n",
    "    # print(img.shape)"
   ]
  },
  {
   "cell_type": "markdown",
   "metadata": {},
   "source": [
    "## Denoising and thresholding"
   ]
  },
  {
   "cell_type": "code",
   "execution_count": 12,
   "metadata": {},
   "outputs": [],
   "source": [
    "files_name = os.listdir(root_tiff)\n",
    "for file_name in files_name:\n",
    "    file_path = os.path.join(root_tiff, file_name)\n",
    "    im_in = tifffile.imread(file_path)\n",
    "\n",
    "    #apply single pixel denoising\n",
    "    im_in = median_filter(im_in, size=(3, 3, 3))\n",
    "\n",
    "    #cutaway outer noise area\n",
    "    #im_in = im_in[40:240, 40:240, 40:240]\n",
    "\n",
    "    #Normalize to range zero and one\n",
    "    im_in = im_in/255.\n",
    "\n",
    "    #Threshhold Image\n",
    "    threshold_global_otsu = threshold_otsu(im_in)\n",
    "    segmented_image = (im_in >= threshold_global_otsu).astype(np.int32)\n",
    "\n",
    "    #Store as postprocessed image\n",
    "    file_path = os.path.join(root_postprocess_tiff, file_name.split('.')[0]+'.tiff')\n",
    "\n",
    "    tifffile.imsave(file_path, segmented_image.astype(np.int32))"
   ]
  },
  {
   "cell_type": "markdown",
   "metadata": {},
   "source": [
    "## Compute porosity"
   ]
  },
  {
   "cell_type": "code",
   "execution_count": 13,
   "metadata": {},
   "outputs": [
    {
     "name": "stdout",
     "output_type": "stream",
     "text": [
      "Counter({1: 6425472, 0: 1574528})\n",
      "Porosity of the sample:  0.196816\n"
     ]
    }
   ],
   "source": [
    "segmented_image = tifffile.imread(\"postprocessed_example.tiff\")\n",
    "porc = Counter(segmented_image.flatten())\n",
    "print(porc)\n",
    "porosity = porc[0]/float(porc[0]+porc[1])\n",
    "print(\"Porosity of the sample: \", porosity)"
   ]
  },
  {
   "cell_type": "code",
   "execution_count": 13,
   "metadata": {
    "collapsed": true
   },
   "outputs": [],
   "source": []
  }
 ],
 "metadata": {
  "anaconda-cloud": {},
  "kernelspec": {
   "display_name": "PyCharm (PorousMediaGan-master)",
   "language": "python",
   "name": "pycharm-73a1c35b"
  },
  "language_info": {
   "codemirror_mode": {
    "name": "ipython",
    "version": 3
   },
   "file_extension": ".py",
   "mimetype": "text/x-python",
   "name": "python",
   "nbconvert_exporter": "python",
   "pygments_lexer": "ipython3",
   "version": "3.6.11"
  }
 },
 "nbformat": 4,
 "nbformat_minor": 1
}